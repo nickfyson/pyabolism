{
 "cells": [
  {
   "cell_type": "code",
   "execution_count": 2,
   "metadata": {
    "collapsed": false
   },
   "outputs": [
    {
     "name": "stdout",
     "output_type": "stream",
     "text": [
      "R_Biomass_Ecoli_core_N__w_GAM_ flux =       0.8614074126\n",
      "R_Biomass_Ecoli_core_N__w_GAM_ flux =       0.0521745229\n",
      "R_Biomass_Ecoli_core_N__w_GAM_ flux =       0.0521745229\n"
     ]
    },
    {
     "data": {
      "text/plain": [
       "<pyabolism.model.MetaModel at 0x1154f9b50>"
      ]
     },
     "execution_count": 2,
     "metadata": {},
     "output_type": "execute_result"
    }
   ],
   "source": [
    "\n",
    "# We demonstrate how to use the EFlux function in the simulate module...\n",
    "\n",
    "from pyabolism import io\n",
    "\n",
    "model = io.load_model('data/ecoli_core.xml')\n",
    "\n",
    "\n",
    "# we have a list of some genes found in the ecoli_core model\n",
    "gene_ids = ['b2926', 'b2925', 'b0008', 'b3734', 'b3735', 'b3736', 'b3737', 'b3731', 'b3732', 'b0767', 'b3738', 'b3739', 'b1702', 'b2914', 'b3919', 'b3916', 'b2587', 'b3117', 'b0722', 'b0723', 'b0720', 'b0721', 'b0726', 'b0727', 'b0724', 'b0728', 'b1380', 'b1136', 'b1241', 'b0474', 'b1417', 'b1416', 'b2276', 'b2277', 'b2278', 'b2279', 'b2465', 'b2463', 'b2779', 'b1276', 'b4025', 'b2975', 'b2976', 'b0729', 'b3603', 'b2416', 'b2417', 'b2415', 'b1479', 'b2287', 'b1779']\n",
    "\n",
    "# we create some synthetic expression data, but building a dictionary with a random (0,100) number associated with each of the genes\n",
    "from random import random\n",
    "expressions = {}\n",
    "for gid in gene_ids:\n",
    "    expressions[gid] = 100*random()\n",
    "\n",
    "\n",
    "# FBA and EFlux are both found in the 'simulate' module\n",
    "from pyabolism.simulate import FBA,EFlux\n",
    "\n",
    "# we first determine the growth rate from basic FBA\n",
    "FBA(model,show=True)\n",
    "\n",
    "# and then compare it to that predicted by the EFlux algorithm\n",
    "EFlux(model,expressions,show=True)\n",
    "\n",
    "\n",
    "# additionally, if the predicted flux distribution of interest,\n",
    "    # it is import to use a norm, for example the L2 or 'euclidean' norm\n",
    "EFlux(model,expressions,norm='L2',show=True)\n"
   ]
  }
 ],
 "metadata": {
  "kernelspec": {
   "display_name": "Python 2",
   "language": "python",
   "name": "python2"
  },
  "language_info": {
   "codemirror_mode": {
    "name": "ipython",
    "version": 2
   },
   "file_extension": ".py",
   "mimetype": "text/x-python",
   "name": "python",
   "nbconvert_exporter": "python",
   "pygments_lexer": "ipython2",
   "version": "2.7.10"
  }
 },
 "nbformat": 4,
 "nbformat_minor": 0
}
