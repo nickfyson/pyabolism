{
 "cells": [
  {
   "cell_type": "markdown",
   "metadata": {},
   "source": [
    "# Using E-Flux with expression data..."
   ]
  },
  {
   "cell_type": "code",
   "execution_count": 1,
   "metadata": {
    "collapsed": false
   },
   "outputs": [],
   "source": [
    "from pyabolism.io import load_model\n",
    "\n",
    "model = load_model('data/ecoli_core.xml')"
   ]
  },
  {
   "cell_type": "markdown",
   "metadata": {},
   "source": [
    "We make a list of some genes found in the ecoli_core model"
   ]
  },
  {
   "cell_type": "code",
   "execution_count": 2,
   "metadata": {
    "collapsed": true
   },
   "outputs": [],
   "source": [
    "gene_ids = ['b2926', 'b2925', 'b0008', 'b3734', 'b3735', 'b3736', 'b3737', 'b3731', 'b3732', 'b0767', 'b3738', 'b3739', 'b1702', 'b2914', 'b3919', 'b3916', 'b2587', 'b3117', 'b0722', 'b0723', 'b0720', 'b0721', 'b0726', 'b0727', 'b0724', 'b0728', 'b1380', 'b1136', 'b1241', 'b0474', 'b1417', 'b1416', 'b2276', 'b2277', 'b2278', 'b2279', 'b2465', 'b2463', 'b2779', 'b1276', 'b4025', 'b2975', 'b2976', 'b0729', 'b3603', 'b2416', 'b2417', 'b2415', 'b1479', 'b2287', 'b1779']"
   ]
  },
  {
   "cell_type": "markdown",
   "metadata": {},
   "source": [
    "We create two sets of synthetic expression data, building a dictionary with a random (0,100) number associated deterministically with each of the genes..."
   ]
  },
  {
   "cell_type": "code",
   "execution_count": 3,
   "metadata": {
    "collapsed": false
   },
   "outputs": [],
   "source": [
    "from random import random,seed\n",
    "\n",
    "expressions_A = {}\n",
    "for gid in gene_ids:\n",
    "    seed(gid)\n",
    "    expressions_A[gid] = 100*random()\n",
    "\n",
    "expressions_B = {}\n",
    "for gid in gene_ids:\n",
    "    seed(gid+gid)\n",
    "    expressions_B[gid] = 100*random()"
   ]
  },
  {
   "cell_type": "markdown",
   "metadata": {},
   "source": [
    "## Comparing growth rates...\n",
    "\n",
    "We first determine the growth rate from basic FBA"
   ]
  },
  {
   "cell_type": "code",
   "execution_count": 4,
   "metadata": {
    "collapsed": false
   },
   "outputs": [
    {
     "name": "stdout",
     "output_type": "stream",
     "text": [
      "R_Biomass_Ecoli_core_N__w_GAM_ flux =       0.8614074126\n"
     ]
    }
   ],
   "source": [
    "from pyabolism.simulate import FBA,EFlux\n",
    "\n",
    "FBA(model,show=True)"
   ]
  },
  {
   "cell_type": "markdown",
   "metadata": {},
   "source": [
    "Using our first set of synthetic expressions data..."
   ]
  },
  {
   "cell_type": "code",
   "execution_count": 5,
   "metadata": {
    "collapsed": false
   },
   "outputs": [
    {
     "name": "stdout",
     "output_type": "stream",
     "text": [
      "R_Biomass_Ecoli_core_N__w_GAM_ flux =       1.2200495896\n"
     ]
    }
   ],
   "source": [
    "EFlux(model,expressions_A,show=True)"
   ]
  },
  {
   "cell_type": "markdown",
   "metadata": {},
   "source": [
    "We can then compare this result with our alternative expression data..."
   ]
  },
  {
   "cell_type": "code",
   "execution_count": 6,
   "metadata": {
    "collapsed": false
   },
   "outputs": [
    {
     "name": "stdout",
     "output_type": "stream",
     "text": [
      "R_Biomass_Ecoli_core_N__w_GAM_ flux =       0.8912921102\n"
     ]
    }
   ],
   "source": [
    "EFlux(model,expressions_B,show=True)"
   ]
  },
  {
   "cell_type": "markdown",
   "metadata": {},
   "source": [
    "## Examining flux distributions...\n",
    "\n",
    "If the predicted flux *distribution* is of interest, it is import to use a norm, for example the L2 or 'euclidean' norm. "
   ]
  },
  {
   "cell_type": "code",
   "execution_count": 7,
   "metadata": {
    "collapsed": false
   },
   "outputs": [
    {
     "name": "stdout",
     "output_type": "stream",
     "text": [
      "R_Biomass_Ecoli_core_N__w_GAM_ flux =       0.8912921102\n"
     ]
    }
   ],
   "source": [
    "EFlux(model,expressions_B,norm='L2',show=True)"
   ]
  },
  {
   "cell_type": "markdown",
   "metadata": {},
   "source": [
    "The achieved objective function remains the same, but we minimise the total fluxes and hence can make meaningful interpretation of the flux vector"
   ]
  }
 ],
 "metadata": {
  "kernelspec": {
   "display_name": "Python 2",
   "language": "python",
   "name": "python2"
  },
  "language_info": {
   "codemirror_mode": {
    "name": "ipython",
    "version": 2
   },
   "file_extension": ".py",
   "mimetype": "text/x-python",
   "name": "python",
   "nbconvert_exporter": "python",
   "pygments_lexer": "ipython2",
   "version": "2.7.10"
  }
 },
 "nbformat": 4,
 "nbformat_minor": 0
}
