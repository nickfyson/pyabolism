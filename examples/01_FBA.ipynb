{
 "cells": [
  {
   "cell_type": "code",
   "execution_count": 2,
   "metadata": {
    "collapsed": false
   },
   "outputs": [
    {
     "name": "stdout",
     "output_type": "stream",
     "text": [
      "R_Biomass_Ecoli_core_N__w_GAM_ flux =       0.8614074126\n"
     ]
    }
   ],
   "source": [
    "\n",
    "\n",
    "\n",
    "from pyabolism import io,simulate\n",
    "\n",
    "model = io.load_model('data/ecoli_core.xml')\n",
    "\n",
    "simulate.FBA(model,show=True)\n",
    "\n",
    "\n"
   ]
  }
 ],
 "metadata": {
  "kernelspec": {
   "display_name": "Python 2",
   "language": "python",
   "name": "python2"
  },
  "language_info": {
   "codemirror_mode": {
    "name": "ipython",
    "version": 2
   },
   "file_extension": ".py",
   "mimetype": "text/x-python",
   "name": "python",
   "nbconvert_exporter": "python",
   "pygments_lexer": "ipython2",
   "version": "2.7.10"
  }
 },
 "nbformat": 4,
 "nbformat_minor": 0
}
