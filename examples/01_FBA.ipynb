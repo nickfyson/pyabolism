{
 "cells": [
  {
   "cell_type": "markdown",
   "metadata": {},
   "source": [
    "# Basic use of Pyabolism module\n",
    "\n",
    "At the most basic, using the module requires only two functions. First we import a model from SBML format..."
   ]
  },
  {
   "cell_type": "code",
   "execution_count": 1,
   "metadata": {
    "collapsed": false
   },
   "outputs": [],
   "source": [
    "from pyabolism.io import load_model\n",
    "\n",
    "model = load_model('data/ecoli_core.xml')"
   ]
  },
  {
   "cell_type": "markdown",
   "metadata": {},
   "source": [
    "Now we can run Flux Balance Analysis, using the default bounds as defined in the original model..."
   ]
  },
  {
   "cell_type": "code",
   "execution_count": 2,
   "metadata": {
    "collapsed": false
   },
   "outputs": [
    {
     "name": "stdout",
     "output_type": "stream",
     "text": [
      "R_Biomass_Ecoli_core_N__w_GAM_ flux =       0.8614074126\n"
     ]
    }
   ],
   "source": [
    "from pyabolism.simulate import FBA\n",
    "\n",
    "FBA(model,show=True)\n",
    "# setting the 'show' parameter means the value of the objective function is printed to screen"
   ]
  }
 ],
 "metadata": {
  "kernelspec": {
   "display_name": "Python 2",
   "language": "python",
   "name": "python2"
  },
  "language_info": {
   "codemirror_mode": {
    "name": "ipython",
    "version": 2
   },
   "file_extension": ".py",
   "mimetype": "text/x-python",
   "name": "python",
   "nbconvert_exporter": "python",
   "pygments_lexer": "ipython2",
   "version": "2.7.10"
  }
 },
 "nbformat": 4,
 "nbformat_minor": 0
}
