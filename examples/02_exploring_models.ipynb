{
 "cells": [
  {
   "cell_type": "markdown",
   "metadata": {},
   "source": [
    "# Exploring models...\n",
    "\n",
    "Once loaded into Pyabolism it is easy to explore and edit the metabolic models.\n",
    "\n"
   ]
  },
  {
   "cell_type": "code",
   "execution_count": 1,
   "metadata": {
    "collapsed": true
   },
   "outputs": [],
   "source": [
    "from pyabolism.io import load_model\n",
    "\n",
    "model = load_model('data/ecoli_core.xml')"
   ]
  },
  {
   "cell_type": "markdown",
   "metadata": {},
   "source": [
    "To get all reactions as a list, we call the function 'reactions'..."
   ]
  },
  {
   "cell_type": "code",
   "execution_count": 2,
   "metadata": {
    "collapsed": false
   },
   "outputs": [
    {
     "name": "stdout",
     "output_type": "stream",
     "text": [
      "\n",
      "Total number of reactions = 77\n"
     ]
    }
   ],
   "source": [
    "all_reactions = model.reactions()\n",
    "\n",
    "print '\\nTotal number of reactions = %d'%len(all_reactions)"
   ]
  },
  {
   "cell_type": "markdown",
   "metadata": {},
   "source": [
    "Reaction objects in Pyabolism have a (just about) human-readable text representation..."
   ]
  },
  {
   "cell_type": "code",
   "execution_count": 3,
   "metadata": {
    "collapsed": false
   },
   "outputs": [
    {
     "name": "stdout",
     "output_type": "stream",
     "text": [
      "R_ACKr :  1.0 M_Acetate_C2H3O2 + 1.0 M_ATP_C10H12N5O13P3    <===>    1.0 M_Acetyl_phosphate_C2H3O5P + 1.0 M_ADP_C10H12N5O10P2 \n",
      "\n",
      "\n",
      "R_ACONT :  1.0 M_Citrate_C6H5O7    <===>    1.0 M_Isocitrate_C6H5O7 \n",
      "\n",
      "\n",
      "R_ACt2r :  1.0 M_Acetate_C2H3O2 + 1.0 M_H_H    <===>    1.0 M_Acetate_C2H3O2 + 1.0 M_H_H \n",
      "\n",
      "\n",
      "R_ADHEr :  1.0 M_Acetyl_CoA_C23H34N7O17P3S + 2.0 M_H_H + 2.0 M_Nicotinamide_adenine_dinucleotide___reduced_C21H27N7O14P2    <===>    1.0 M_Coenzyme_A_C21H32N7O16P3S + 1.0 M_Ethanol_C2H6O + 2.0 M_Nicotinamide_adenine_dinucleotide_C21H26N7O14P2 \n",
      "\n",
      "\n"
     ]
    }
   ],
   "source": [
    "for reaction in all_reactions[:4]:\n",
    "    print reaction\n",
    "    print ''"
   ]
  }
 ],
 "metadata": {
  "kernelspec": {
   "display_name": "Python 2",
   "language": "python",
   "name": "python2"
  },
  "language_info": {
   "codemirror_mode": {
    "name": "ipython",
    "version": 2
   },
   "file_extension": ".py",
   "mimetype": "text/x-python",
   "name": "python",
   "nbconvert_exporter": "python",
   "pygments_lexer": "ipython2",
   "version": "2.7.10"
  }
 },
 "nbformat": 4,
 "nbformat_minor": 0
}
